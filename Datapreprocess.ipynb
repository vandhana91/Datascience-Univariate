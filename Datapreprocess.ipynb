{
  "metadata": {
    "kernelspec": {
      "name": "python",
      "display_name": "Python (Pyodide)",
      "language": "python"
    },
    "language_info": {
      "codemirror_mode": {
        "name": "python",
        "version": 3
      },
      "file_extension": ".py",
      "mimetype": "text/x-python",
      "name": "python",
      "nbconvert_exporter": "python",
      "pygments_lexer": "ipython3",
      "version": "3.8"
    }
  },
  "nbformat_minor": 4,
  "nbformat": 4,
  "cells": [
    {
      "cell_type": "code",
      "source": "import pandas as pd",
      "metadata": {
        "trusted": true
      },
      "outputs": [],
      "execution_count": 1
    },
    {
      "cell_type": "code",
      "source": "dataset = pd.read_csv('kidney_disease.csv')",
      "metadata": {
        "trusted": true
      },
      "outputs": [],
      "execution_count": 2
    },
    {
      "cell_type": "code",
      "source": "dataset.isnull().sum()",
      "metadata": {
        "trusted": true
      },
      "outputs": [
        {
          "execution_count": 4,
          "output_type": "execute_result",
          "data": {
            "text/plain": "id                  0\nage                 9\nbp                 12\nsg                 47\nal                 46\nsu                 49\nrbc               152\npc                 65\npcc                 4\nba                  4\nbgr                44\nbu                 19\nsc                 17\nsod                87\npot                88\nhemo               52\npcv                70\nwc                105\nrc                130\nhtn                 2\ndm                  2\ncad                 2\nappet               1\npe                  1\nane                 1\nclassification      0\ndtype: int64"
          },
          "metadata": {}
        }
      ],
      "execution_count": 4
    },
    {
      "cell_type": "code",
      "source": "dataset.isna().sum()",
      "metadata": {
        "trusted": true
      },
      "outputs": [
        {
          "execution_count": 5,
          "output_type": "execute_result",
          "data": {
            "text/plain": "id                  0\nage                 9\nbp                 12\nsg                 47\nal                 46\nsu                 49\nrbc               152\npc                 65\npcc                 4\nba                  4\nbgr                44\nbu                 19\nsc                 17\nsod                87\npot                88\nhemo               52\npcv                70\nwc                105\nrc                130\nhtn                 2\ndm                  2\ncad                 2\nappet               1\npe                  1\nane                 1\nclassification      0\ndtype: int64"
          },
          "metadata": {}
        }
      ],
      "execution_count": 5
    },
    {
      "cell_type": "code",
      "source": "dataset",
      "metadata": {
        "trusted": true
      },
      "outputs": [
        {
          "execution_count": 6,
          "output_type": "execute_result",
          "data": {
            "text/plain": "      id   age    bp     sg   al   su     rbc        pc         pcc  \\\n0      0  48.0  80.0  1.020  1.0  0.0     NaN    normal  notpresent   \n1      1   7.0  50.0  1.020  4.0  0.0     NaN    normal  notpresent   \n2      2  62.0  80.0  1.010  2.0  3.0  normal    normal  notpresent   \n3      3  48.0  70.0  1.005  4.0  0.0  normal  abnormal     present   \n4      4  51.0  80.0  1.010  2.0  0.0  normal    normal  notpresent   \n..   ...   ...   ...    ...  ...  ...     ...       ...         ...   \n395  395  55.0  80.0  1.020  0.0  0.0  normal    normal  notpresent   \n396  396  42.0  70.0  1.025  0.0  0.0  normal    normal  notpresent   \n397  397  12.0  80.0  1.020  0.0  0.0  normal    normal  notpresent   \n398  398  17.0  60.0  1.025  0.0  0.0  normal    normal  notpresent   \n399  399  58.0  80.0  1.025  0.0  0.0  normal    normal  notpresent   \n\n             ba  ...  pcv    wc   rc  htn   dm  cad appet   pe  ane  \\\n0    notpresent  ...   44  7800  5.2  yes  yes   no  good   no   no   \n1    notpresent  ...   38  6000  NaN   no   no   no  good   no   no   \n2    notpresent  ...   31  7500  NaN   no  yes   no  poor   no  yes   \n3    notpresent  ...   32  6700  3.9  yes   no   no  poor  yes  yes   \n4    notpresent  ...   35  7300  4.6   no   no   no  good   no   no   \n..          ...  ...  ...   ...  ...  ...  ...  ...   ...  ...  ...   \n395  notpresent  ...   47  6700  4.9   no   no   no  good   no   no   \n396  notpresent  ...   54  7800  6.2   no   no   no  good   no   no   \n397  notpresent  ...   49  6600  5.4   no   no   no  good   no   no   \n398  notpresent  ...   51  7200  5.9   no   no   no  good   no   no   \n399  notpresent  ...   53  6800  6.1   no   no   no  good   no   no   \n\n    classification  \n0              ckd  \n1              ckd  \n2              ckd  \n3              ckd  \n4              ckd  \n..             ...  \n395         notckd  \n396         notckd  \n397         notckd  \n398         notckd  \n399         notckd  \n\n[400 rows x 26 columns]",
            "text/html": "<div>\n<style scoped>\n    .dataframe tbody tr th:only-of-type {\n        vertical-align: middle;\n    }\n\n    .dataframe tbody tr th {\n        vertical-align: top;\n    }\n\n    .dataframe thead th {\n        text-align: right;\n    }\n</style>\n<table border=\"1\" class=\"dataframe\">\n  <thead>\n    <tr style=\"text-align: right;\">\n      <th></th>\n      <th>id</th>\n      <th>age</th>\n      <th>bp</th>\n      <th>sg</th>\n      <th>al</th>\n      <th>su</th>\n      <th>rbc</th>\n      <th>pc</th>\n      <th>pcc</th>\n      <th>ba</th>\n      <th>...</th>\n      <th>pcv</th>\n      <th>wc</th>\n      <th>rc</th>\n      <th>htn</th>\n      <th>dm</th>\n      <th>cad</th>\n      <th>appet</th>\n      <th>pe</th>\n      <th>ane</th>\n      <th>classification</th>\n    </tr>\n  </thead>\n  <tbody>\n    <tr>\n      <th>0</th>\n      <td>0</td>\n      <td>48.0</td>\n      <td>80.0</td>\n      <td>1.020</td>\n      <td>1.0</td>\n      <td>0.0</td>\n      <td>NaN</td>\n      <td>normal</td>\n      <td>notpresent</td>\n      <td>notpresent</td>\n      <td>...</td>\n      <td>44</td>\n      <td>7800</td>\n      <td>5.2</td>\n      <td>yes</td>\n      <td>yes</td>\n      <td>no</td>\n      <td>good</td>\n      <td>no</td>\n      <td>no</td>\n      <td>ckd</td>\n    </tr>\n    <tr>\n      <th>1</th>\n      <td>1</td>\n      <td>7.0</td>\n      <td>50.0</td>\n      <td>1.020</td>\n      <td>4.0</td>\n      <td>0.0</td>\n      <td>NaN</td>\n      <td>normal</td>\n      <td>notpresent</td>\n      <td>notpresent</td>\n      <td>...</td>\n      <td>38</td>\n      <td>6000</td>\n      <td>NaN</td>\n      <td>no</td>\n      <td>no</td>\n      <td>no</td>\n      <td>good</td>\n      <td>no</td>\n      <td>no</td>\n      <td>ckd</td>\n    </tr>\n    <tr>\n      <th>2</th>\n      <td>2</td>\n      <td>62.0</td>\n      <td>80.0</td>\n      <td>1.010</td>\n      <td>2.0</td>\n      <td>3.0</td>\n      <td>normal</td>\n      <td>normal</td>\n      <td>notpresent</td>\n      <td>notpresent</td>\n      <td>...</td>\n      <td>31</td>\n      <td>7500</td>\n      <td>NaN</td>\n      <td>no</td>\n      <td>yes</td>\n      <td>no</td>\n      <td>poor</td>\n      <td>no</td>\n      <td>yes</td>\n      <td>ckd</td>\n    </tr>\n    <tr>\n      <th>3</th>\n      <td>3</td>\n      <td>48.0</td>\n      <td>70.0</td>\n      <td>1.005</td>\n      <td>4.0</td>\n      <td>0.0</td>\n      <td>normal</td>\n      <td>abnormal</td>\n      <td>present</td>\n      <td>notpresent</td>\n      <td>...</td>\n      <td>32</td>\n      <td>6700</td>\n      <td>3.9</td>\n      <td>yes</td>\n      <td>no</td>\n      <td>no</td>\n      <td>poor</td>\n      <td>yes</td>\n      <td>yes</td>\n      <td>ckd</td>\n    </tr>\n    <tr>\n      <th>4</th>\n      <td>4</td>\n      <td>51.0</td>\n      <td>80.0</td>\n      <td>1.010</td>\n      <td>2.0</td>\n      <td>0.0</td>\n      <td>normal</td>\n      <td>normal</td>\n      <td>notpresent</td>\n      <td>notpresent</td>\n      <td>...</td>\n      <td>35</td>\n      <td>7300</td>\n      <td>4.6</td>\n      <td>no</td>\n      <td>no</td>\n      <td>no</td>\n      <td>good</td>\n      <td>no</td>\n      <td>no</td>\n      <td>ckd</td>\n    </tr>\n    <tr>\n      <th>...</th>\n      <td>...</td>\n      <td>...</td>\n      <td>...</td>\n      <td>...</td>\n      <td>...</td>\n      <td>...</td>\n      <td>...</td>\n      <td>...</td>\n      <td>...</td>\n      <td>...</td>\n      <td>...</td>\n      <td>...</td>\n      <td>...</td>\n      <td>...</td>\n      <td>...</td>\n      <td>...</td>\n      <td>...</td>\n      <td>...</td>\n      <td>...</td>\n      <td>...</td>\n      <td>...</td>\n    </tr>\n    <tr>\n      <th>395</th>\n      <td>395</td>\n      <td>55.0</td>\n      <td>80.0</td>\n      <td>1.020</td>\n      <td>0.0</td>\n      <td>0.0</td>\n      <td>normal</td>\n      <td>normal</td>\n      <td>notpresent</td>\n      <td>notpresent</td>\n      <td>...</td>\n      <td>47</td>\n      <td>6700</td>\n      <td>4.9</td>\n      <td>no</td>\n      <td>no</td>\n      <td>no</td>\n      <td>good</td>\n      <td>no</td>\n      <td>no</td>\n      <td>notckd</td>\n    </tr>\n    <tr>\n      <th>396</th>\n      <td>396</td>\n      <td>42.0</td>\n      <td>70.0</td>\n      <td>1.025</td>\n      <td>0.0</td>\n      <td>0.0</td>\n      <td>normal</td>\n      <td>normal</td>\n      <td>notpresent</td>\n      <td>notpresent</td>\n      <td>...</td>\n      <td>54</td>\n      <td>7800</td>\n      <td>6.2</td>\n      <td>no</td>\n      <td>no</td>\n      <td>no</td>\n      <td>good</td>\n      <td>no</td>\n      <td>no</td>\n      <td>notckd</td>\n    </tr>\n    <tr>\n      <th>397</th>\n      <td>397</td>\n      <td>12.0</td>\n      <td>80.0</td>\n      <td>1.020</td>\n      <td>0.0</td>\n      <td>0.0</td>\n      <td>normal</td>\n      <td>normal</td>\n      <td>notpresent</td>\n      <td>notpresent</td>\n      <td>...</td>\n      <td>49</td>\n      <td>6600</td>\n      <td>5.4</td>\n      <td>no</td>\n      <td>no</td>\n      <td>no</td>\n      <td>good</td>\n      <td>no</td>\n      <td>no</td>\n      <td>notckd</td>\n    </tr>\n    <tr>\n      <th>398</th>\n      <td>398</td>\n      <td>17.0</td>\n      <td>60.0</td>\n      <td>1.025</td>\n      <td>0.0</td>\n      <td>0.0</td>\n      <td>normal</td>\n      <td>normal</td>\n      <td>notpresent</td>\n      <td>notpresent</td>\n      <td>...</td>\n      <td>51</td>\n      <td>7200</td>\n      <td>5.9</td>\n      <td>no</td>\n      <td>no</td>\n      <td>no</td>\n      <td>good</td>\n      <td>no</td>\n      <td>no</td>\n      <td>notckd</td>\n    </tr>\n    <tr>\n      <th>399</th>\n      <td>399</td>\n      <td>58.0</td>\n      <td>80.0</td>\n      <td>1.025</td>\n      <td>0.0</td>\n      <td>0.0</td>\n      <td>normal</td>\n      <td>normal</td>\n      <td>notpresent</td>\n      <td>notpresent</td>\n      <td>...</td>\n      <td>53</td>\n      <td>6800</td>\n      <td>6.1</td>\n      <td>no</td>\n      <td>no</td>\n      <td>no</td>\n      <td>good</td>\n      <td>no</td>\n      <td>no</td>\n      <td>notckd</td>\n    </tr>\n  </tbody>\n</table>\n<p>400 rows × 26 columns</p>\n</div>"
          },
          "metadata": {}
        }
      ],
      "execution_count": 6
    },
    {
      "cell_type": "code",
      "source": "\ndef quanqual(dataset):\n    qual = []\n    quan = []\n    for column in dataset.columns:\n        if dataset[column].dtypes == 'object':\n            qual.append(column)\n        else:\n            quan.append(column)\n    return qual,quan",
      "metadata": {
        "trusted": true
      },
      "outputs": [],
      "execution_count": 17
    },
    {
      "cell_type": "code",
      "source": "qual,quan = quanqual(dataset)",
      "metadata": {
        "trusted": true
      },
      "outputs": [],
      "execution_count": 18
    },
    {
      "cell_type": "code",
      "source": "qual",
      "metadata": {
        "trusted": true
      },
      "outputs": [
        {
          "execution_count": 19,
          "output_type": "execute_result",
          "data": {
            "text/plain": "['rbc',\n 'pc',\n 'pcc',\n 'ba',\n 'pcv',\n 'wc',\n 'rc',\n 'htn',\n 'dm',\n 'cad',\n 'appet',\n 'pe',\n 'ane',\n 'classification']"
          },
          "metadata": {}
        }
      ],
      "execution_count": 19
    },
    {
      "cell_type": "code",
      "source": "quan",
      "metadata": {
        "trusted": true
      },
      "outputs": [
        {
          "execution_count": 20,
          "output_type": "execute_result",
          "data": {
            "text/plain": "['id', 'age', 'bp', 'sg', 'al', 'su', 'bgr', 'bu', 'sc', 'sod', 'pot', 'hemo']"
          },
          "metadata": {}
        }
      ],
      "execution_count": 20
    },
    {
      "cell_type": "code",
      "source": "dataset[quan]",
      "metadata": {
        "trusted": true
      },
      "outputs": [
        {
          "execution_count": 21,
          "output_type": "execute_result",
          "data": {
            "text/plain": "      id   age    bp     sg   al   su    bgr    bu   sc    sod  pot  hemo\n0      0  48.0  80.0  1.020  1.0  0.0  121.0  36.0  1.2    NaN  NaN  15.4\n1      1   7.0  50.0  1.020  4.0  0.0    NaN  18.0  0.8    NaN  NaN  11.3\n2      2  62.0  80.0  1.010  2.0  3.0  423.0  53.0  1.8    NaN  NaN   9.6\n3      3  48.0  70.0  1.005  4.0  0.0  117.0  56.0  3.8  111.0  2.5  11.2\n4      4  51.0  80.0  1.010  2.0  0.0  106.0  26.0  1.4    NaN  NaN  11.6\n..   ...   ...   ...    ...  ...  ...    ...   ...  ...    ...  ...   ...\n395  395  55.0  80.0  1.020  0.0  0.0  140.0  49.0  0.5  150.0  4.9  15.7\n396  396  42.0  70.0  1.025  0.0  0.0   75.0  31.0  1.2  141.0  3.5  16.5\n397  397  12.0  80.0  1.020  0.0  0.0  100.0  26.0  0.6  137.0  4.4  15.8\n398  398  17.0  60.0  1.025  0.0  0.0  114.0  50.0  1.0  135.0  4.9  14.2\n399  399  58.0  80.0  1.025  0.0  0.0  131.0  18.0  1.1  141.0  3.5  15.8\n\n[400 rows x 12 columns]",
            "text/html": "<div>\n<style scoped>\n    .dataframe tbody tr th:only-of-type {\n        vertical-align: middle;\n    }\n\n    .dataframe tbody tr th {\n        vertical-align: top;\n    }\n\n    .dataframe thead th {\n        text-align: right;\n    }\n</style>\n<table border=\"1\" class=\"dataframe\">\n  <thead>\n    <tr style=\"text-align: right;\">\n      <th></th>\n      <th>id</th>\n      <th>age</th>\n      <th>bp</th>\n      <th>sg</th>\n      <th>al</th>\n      <th>su</th>\n      <th>bgr</th>\n      <th>bu</th>\n      <th>sc</th>\n      <th>sod</th>\n      <th>pot</th>\n      <th>hemo</th>\n    </tr>\n  </thead>\n  <tbody>\n    <tr>\n      <th>0</th>\n      <td>0</td>\n      <td>48.0</td>\n      <td>80.0</td>\n      <td>1.020</td>\n      <td>1.0</td>\n      <td>0.0</td>\n      <td>121.0</td>\n      <td>36.0</td>\n      <td>1.2</td>\n      <td>NaN</td>\n      <td>NaN</td>\n      <td>15.4</td>\n    </tr>\n    <tr>\n      <th>1</th>\n      <td>1</td>\n      <td>7.0</td>\n      <td>50.0</td>\n      <td>1.020</td>\n      <td>4.0</td>\n      <td>0.0</td>\n      <td>NaN</td>\n      <td>18.0</td>\n      <td>0.8</td>\n      <td>NaN</td>\n      <td>NaN</td>\n      <td>11.3</td>\n    </tr>\n    <tr>\n      <th>2</th>\n      <td>2</td>\n      <td>62.0</td>\n      <td>80.0</td>\n      <td>1.010</td>\n      <td>2.0</td>\n      <td>3.0</td>\n      <td>423.0</td>\n      <td>53.0</td>\n      <td>1.8</td>\n      <td>NaN</td>\n      <td>NaN</td>\n      <td>9.6</td>\n    </tr>\n    <tr>\n      <th>3</th>\n      <td>3</td>\n      <td>48.0</td>\n      <td>70.0</td>\n      <td>1.005</td>\n      <td>4.0</td>\n      <td>0.0</td>\n      <td>117.0</td>\n      <td>56.0</td>\n      <td>3.8</td>\n      <td>111.0</td>\n      <td>2.5</td>\n      <td>11.2</td>\n    </tr>\n    <tr>\n      <th>4</th>\n      <td>4</td>\n      <td>51.0</td>\n      <td>80.0</td>\n      <td>1.010</td>\n      <td>2.0</td>\n      <td>0.0</td>\n      <td>106.0</td>\n      <td>26.0</td>\n      <td>1.4</td>\n      <td>NaN</td>\n      <td>NaN</td>\n      <td>11.6</td>\n    </tr>\n    <tr>\n      <th>...</th>\n      <td>...</td>\n      <td>...</td>\n      <td>...</td>\n      <td>...</td>\n      <td>...</td>\n      <td>...</td>\n      <td>...</td>\n      <td>...</td>\n      <td>...</td>\n      <td>...</td>\n      <td>...</td>\n      <td>...</td>\n    </tr>\n    <tr>\n      <th>395</th>\n      <td>395</td>\n      <td>55.0</td>\n      <td>80.0</td>\n      <td>1.020</td>\n      <td>0.0</td>\n      <td>0.0</td>\n      <td>140.0</td>\n      <td>49.0</td>\n      <td>0.5</td>\n      <td>150.0</td>\n      <td>4.9</td>\n      <td>15.7</td>\n    </tr>\n    <tr>\n      <th>396</th>\n      <td>396</td>\n      <td>42.0</td>\n      <td>70.0</td>\n      <td>1.025</td>\n      <td>0.0</td>\n      <td>0.0</td>\n      <td>75.0</td>\n      <td>31.0</td>\n      <td>1.2</td>\n      <td>141.0</td>\n      <td>3.5</td>\n      <td>16.5</td>\n    </tr>\n    <tr>\n      <th>397</th>\n      <td>397</td>\n      <td>12.0</td>\n      <td>80.0</td>\n      <td>1.020</td>\n      <td>0.0</td>\n      <td>0.0</td>\n      <td>100.0</td>\n      <td>26.0</td>\n      <td>0.6</td>\n      <td>137.0</td>\n      <td>4.4</td>\n      <td>15.8</td>\n    </tr>\n    <tr>\n      <th>398</th>\n      <td>398</td>\n      <td>17.0</td>\n      <td>60.0</td>\n      <td>1.025</td>\n      <td>0.0</td>\n      <td>0.0</td>\n      <td>114.0</td>\n      <td>50.0</td>\n      <td>1.0</td>\n      <td>135.0</td>\n      <td>4.9</td>\n      <td>14.2</td>\n    </tr>\n    <tr>\n      <th>399</th>\n      <td>399</td>\n      <td>58.0</td>\n      <td>80.0</td>\n      <td>1.025</td>\n      <td>0.0</td>\n      <td>0.0</td>\n      <td>131.0</td>\n      <td>18.0</td>\n      <td>1.1</td>\n      <td>141.0</td>\n      <td>3.5</td>\n      <td>15.8</td>\n    </tr>\n  </tbody>\n</table>\n<p>400 rows × 12 columns</p>\n</div>"
          },
          "metadata": {}
        }
      ],
      "execution_count": 21
    },
    {
      "cell_type": "code",
      "source": "import numpy as np\nfrom sklearn.impute import SimpleImputer\nimp = SimpleImputer(missing_values=np.nan, strategy='mean')\nimp.fit(dataset[quan])\ndf=imp.transform(dataset[quan])\ndf = pd.DataFrame(df,columns = quan)",
      "metadata": {
        "trusted": true
      },
      "outputs": [],
      "execution_count": 22
    },
    {
      "cell_type": "code",
      "source": "df",
      "metadata": {
        "trusted": true
      },
      "outputs": [
        {
          "execution_count": 23,
          "output_type": "execute_result",
          "data": {
            "text/plain": "        id   age    bp     sg   al   su         bgr    bu   sc         sod  \\\n0      0.0  48.0  80.0  1.020  1.0  0.0  121.000000  36.0  1.2  137.528754   \n1      1.0   7.0  50.0  1.020  4.0  0.0  148.036517  18.0  0.8  137.528754   \n2      2.0  62.0  80.0  1.010  2.0  3.0  423.000000  53.0  1.8  137.528754   \n3      3.0  48.0  70.0  1.005  4.0  0.0  117.000000  56.0  3.8  111.000000   \n4      4.0  51.0  80.0  1.010  2.0  0.0  106.000000  26.0  1.4  137.528754   \n..     ...   ...   ...    ...  ...  ...         ...   ...  ...         ...   \n395  395.0  55.0  80.0  1.020  0.0  0.0  140.000000  49.0  0.5  150.000000   \n396  396.0  42.0  70.0  1.025  0.0  0.0   75.000000  31.0  1.2  141.000000   \n397  397.0  12.0  80.0  1.020  0.0  0.0  100.000000  26.0  0.6  137.000000   \n398  398.0  17.0  60.0  1.025  0.0  0.0  114.000000  50.0  1.0  135.000000   \n399  399.0  58.0  80.0  1.025  0.0  0.0  131.000000  18.0  1.1  141.000000   \n\n          pot  hemo  \n0    4.627244  15.4  \n1    4.627244  11.3  \n2    4.627244   9.6  \n3    2.500000  11.2  \n4    4.627244  11.6  \n..        ...   ...  \n395  4.900000  15.7  \n396  3.500000  16.5  \n397  4.400000  15.8  \n398  4.900000  14.2  \n399  3.500000  15.8  \n\n[400 rows x 12 columns]",
            "text/html": "<div>\n<style scoped>\n    .dataframe tbody tr th:only-of-type {\n        vertical-align: middle;\n    }\n\n    .dataframe tbody tr th {\n        vertical-align: top;\n    }\n\n    .dataframe thead th {\n        text-align: right;\n    }\n</style>\n<table border=\"1\" class=\"dataframe\">\n  <thead>\n    <tr style=\"text-align: right;\">\n      <th></th>\n      <th>id</th>\n      <th>age</th>\n      <th>bp</th>\n      <th>sg</th>\n      <th>al</th>\n      <th>su</th>\n      <th>bgr</th>\n      <th>bu</th>\n      <th>sc</th>\n      <th>sod</th>\n      <th>pot</th>\n      <th>hemo</th>\n    </tr>\n  </thead>\n  <tbody>\n    <tr>\n      <th>0</th>\n      <td>0.0</td>\n      <td>48.0</td>\n      <td>80.0</td>\n      <td>1.020</td>\n      <td>1.0</td>\n      <td>0.0</td>\n      <td>121.000000</td>\n      <td>36.0</td>\n      <td>1.2</td>\n      <td>137.528754</td>\n      <td>4.627244</td>\n      <td>15.4</td>\n    </tr>\n    <tr>\n      <th>1</th>\n      <td>1.0</td>\n      <td>7.0</td>\n      <td>50.0</td>\n      <td>1.020</td>\n      <td>4.0</td>\n      <td>0.0</td>\n      <td>148.036517</td>\n      <td>18.0</td>\n      <td>0.8</td>\n      <td>137.528754</td>\n      <td>4.627244</td>\n      <td>11.3</td>\n    </tr>\n    <tr>\n      <th>2</th>\n      <td>2.0</td>\n      <td>62.0</td>\n      <td>80.0</td>\n      <td>1.010</td>\n      <td>2.0</td>\n      <td>3.0</td>\n      <td>423.000000</td>\n      <td>53.0</td>\n      <td>1.8</td>\n      <td>137.528754</td>\n      <td>4.627244</td>\n      <td>9.6</td>\n    </tr>\n    <tr>\n      <th>3</th>\n      <td>3.0</td>\n      <td>48.0</td>\n      <td>70.0</td>\n      <td>1.005</td>\n      <td>4.0</td>\n      <td>0.0</td>\n      <td>117.000000</td>\n      <td>56.0</td>\n      <td>3.8</td>\n      <td>111.000000</td>\n      <td>2.500000</td>\n      <td>11.2</td>\n    </tr>\n    <tr>\n      <th>4</th>\n      <td>4.0</td>\n      <td>51.0</td>\n      <td>80.0</td>\n      <td>1.010</td>\n      <td>2.0</td>\n      <td>0.0</td>\n      <td>106.000000</td>\n      <td>26.0</td>\n      <td>1.4</td>\n      <td>137.528754</td>\n      <td>4.627244</td>\n      <td>11.6</td>\n    </tr>\n    <tr>\n      <th>...</th>\n      <td>...</td>\n      <td>...</td>\n      <td>...</td>\n      <td>...</td>\n      <td>...</td>\n      <td>...</td>\n      <td>...</td>\n      <td>...</td>\n      <td>...</td>\n      <td>...</td>\n      <td>...</td>\n      <td>...</td>\n    </tr>\n    <tr>\n      <th>395</th>\n      <td>395.0</td>\n      <td>55.0</td>\n      <td>80.0</td>\n      <td>1.020</td>\n      <td>0.0</td>\n      <td>0.0</td>\n      <td>140.000000</td>\n      <td>49.0</td>\n      <td>0.5</td>\n      <td>150.000000</td>\n      <td>4.900000</td>\n      <td>15.7</td>\n    </tr>\n    <tr>\n      <th>396</th>\n      <td>396.0</td>\n      <td>42.0</td>\n      <td>70.0</td>\n      <td>1.025</td>\n      <td>0.0</td>\n      <td>0.0</td>\n      <td>75.000000</td>\n      <td>31.0</td>\n      <td>1.2</td>\n      <td>141.000000</td>\n      <td>3.500000</td>\n      <td>16.5</td>\n    </tr>\n    <tr>\n      <th>397</th>\n      <td>397.0</td>\n      <td>12.0</td>\n      <td>80.0</td>\n      <td>1.020</td>\n      <td>0.0</td>\n      <td>0.0</td>\n      <td>100.000000</td>\n      <td>26.0</td>\n      <td>0.6</td>\n      <td>137.000000</td>\n      <td>4.400000</td>\n      <td>15.8</td>\n    </tr>\n    <tr>\n      <th>398</th>\n      <td>398.0</td>\n      <td>17.0</td>\n      <td>60.0</td>\n      <td>1.025</td>\n      <td>0.0</td>\n      <td>0.0</td>\n      <td>114.000000</td>\n      <td>50.0</td>\n      <td>1.0</td>\n      <td>135.000000</td>\n      <td>4.900000</td>\n      <td>14.2</td>\n    </tr>\n    <tr>\n      <th>399</th>\n      <td>399.0</td>\n      <td>58.0</td>\n      <td>80.0</td>\n      <td>1.025</td>\n      <td>0.0</td>\n      <td>0.0</td>\n      <td>131.000000</td>\n      <td>18.0</td>\n      <td>1.1</td>\n      <td>141.000000</td>\n      <td>3.500000</td>\n      <td>15.8</td>\n    </tr>\n  </tbody>\n</table>\n<p>400 rows × 12 columns</p>\n</div>"
          },
          "metadata": {}
        }
      ],
      "execution_count": 23
    },
    {
      "cell_type": "code",
      "source": "dataset[qual]",
      "metadata": {
        "trusted": true
      },
      "outputs": [
        {
          "execution_count": 27,
          "output_type": "execute_result",
          "data": {
            "text/plain": "        rbc        pc         pcc          ba pcv    wc   rc  htn   dm cad  \\\n0       NaN    normal  notpresent  notpresent  44  7800  5.2  yes  yes  no   \n1       NaN    normal  notpresent  notpresent  38  6000  NaN   no   no  no   \n2    normal    normal  notpresent  notpresent  31  7500  NaN   no  yes  no   \n3    normal  abnormal     present  notpresent  32  6700  3.9  yes   no  no   \n4    normal    normal  notpresent  notpresent  35  7300  4.6   no   no  no   \n..      ...       ...         ...         ...  ..   ...  ...  ...  ...  ..   \n395  normal    normal  notpresent  notpresent  47  6700  4.9   no   no  no   \n396  normal    normal  notpresent  notpresent  54  7800  6.2   no   no  no   \n397  normal    normal  notpresent  notpresent  49  6600  5.4   no   no  no   \n398  normal    normal  notpresent  notpresent  51  7200  5.9   no   no  no   \n399  normal    normal  notpresent  notpresent  53  6800  6.1   no   no  no   \n\n    appet   pe  ane classification  \n0    good   no   no            ckd  \n1    good   no   no            ckd  \n2    poor   no  yes            ckd  \n3    poor  yes  yes            ckd  \n4    good   no   no            ckd  \n..    ...  ...  ...            ...  \n395  good   no   no         notckd  \n396  good   no   no         notckd  \n397  good   no   no         notckd  \n398  good   no   no         notckd  \n399  good   no   no         notckd  \n\n[400 rows x 14 columns]",
            "text/html": "<div>\n<style scoped>\n    .dataframe tbody tr th:only-of-type {\n        vertical-align: middle;\n    }\n\n    .dataframe tbody tr th {\n        vertical-align: top;\n    }\n\n    .dataframe thead th {\n        text-align: right;\n    }\n</style>\n<table border=\"1\" class=\"dataframe\">\n  <thead>\n    <tr style=\"text-align: right;\">\n      <th></th>\n      <th>rbc</th>\n      <th>pc</th>\n      <th>pcc</th>\n      <th>ba</th>\n      <th>pcv</th>\n      <th>wc</th>\n      <th>rc</th>\n      <th>htn</th>\n      <th>dm</th>\n      <th>cad</th>\n      <th>appet</th>\n      <th>pe</th>\n      <th>ane</th>\n      <th>classification</th>\n    </tr>\n  </thead>\n  <tbody>\n    <tr>\n      <th>0</th>\n      <td>NaN</td>\n      <td>normal</td>\n      <td>notpresent</td>\n      <td>notpresent</td>\n      <td>44</td>\n      <td>7800</td>\n      <td>5.2</td>\n      <td>yes</td>\n      <td>yes</td>\n      <td>no</td>\n      <td>good</td>\n      <td>no</td>\n      <td>no</td>\n      <td>ckd</td>\n    </tr>\n    <tr>\n      <th>1</th>\n      <td>NaN</td>\n      <td>normal</td>\n      <td>notpresent</td>\n      <td>notpresent</td>\n      <td>38</td>\n      <td>6000</td>\n      <td>NaN</td>\n      <td>no</td>\n      <td>no</td>\n      <td>no</td>\n      <td>good</td>\n      <td>no</td>\n      <td>no</td>\n      <td>ckd</td>\n    </tr>\n    <tr>\n      <th>2</th>\n      <td>normal</td>\n      <td>normal</td>\n      <td>notpresent</td>\n      <td>notpresent</td>\n      <td>31</td>\n      <td>7500</td>\n      <td>NaN</td>\n      <td>no</td>\n      <td>yes</td>\n      <td>no</td>\n      <td>poor</td>\n      <td>no</td>\n      <td>yes</td>\n      <td>ckd</td>\n    </tr>\n    <tr>\n      <th>3</th>\n      <td>normal</td>\n      <td>abnormal</td>\n      <td>present</td>\n      <td>notpresent</td>\n      <td>32</td>\n      <td>6700</td>\n      <td>3.9</td>\n      <td>yes</td>\n      <td>no</td>\n      <td>no</td>\n      <td>poor</td>\n      <td>yes</td>\n      <td>yes</td>\n      <td>ckd</td>\n    </tr>\n    <tr>\n      <th>4</th>\n      <td>normal</td>\n      <td>normal</td>\n      <td>notpresent</td>\n      <td>notpresent</td>\n      <td>35</td>\n      <td>7300</td>\n      <td>4.6</td>\n      <td>no</td>\n      <td>no</td>\n      <td>no</td>\n      <td>good</td>\n      <td>no</td>\n      <td>no</td>\n      <td>ckd</td>\n    </tr>\n    <tr>\n      <th>...</th>\n      <td>...</td>\n      <td>...</td>\n      <td>...</td>\n      <td>...</td>\n      <td>...</td>\n      <td>...</td>\n      <td>...</td>\n      <td>...</td>\n      <td>...</td>\n      <td>...</td>\n      <td>...</td>\n      <td>...</td>\n      <td>...</td>\n      <td>...</td>\n    </tr>\n    <tr>\n      <th>395</th>\n      <td>normal</td>\n      <td>normal</td>\n      <td>notpresent</td>\n      <td>notpresent</td>\n      <td>47</td>\n      <td>6700</td>\n      <td>4.9</td>\n      <td>no</td>\n      <td>no</td>\n      <td>no</td>\n      <td>good</td>\n      <td>no</td>\n      <td>no</td>\n      <td>notckd</td>\n    </tr>\n    <tr>\n      <th>396</th>\n      <td>normal</td>\n      <td>normal</td>\n      <td>notpresent</td>\n      <td>notpresent</td>\n      <td>54</td>\n      <td>7800</td>\n      <td>6.2</td>\n      <td>no</td>\n      <td>no</td>\n      <td>no</td>\n      <td>good</td>\n      <td>no</td>\n      <td>no</td>\n      <td>notckd</td>\n    </tr>\n    <tr>\n      <th>397</th>\n      <td>normal</td>\n      <td>normal</td>\n      <td>notpresent</td>\n      <td>notpresent</td>\n      <td>49</td>\n      <td>6600</td>\n      <td>5.4</td>\n      <td>no</td>\n      <td>no</td>\n      <td>no</td>\n      <td>good</td>\n      <td>no</td>\n      <td>no</td>\n      <td>notckd</td>\n    </tr>\n    <tr>\n      <th>398</th>\n      <td>normal</td>\n      <td>normal</td>\n      <td>notpresent</td>\n      <td>notpresent</td>\n      <td>51</td>\n      <td>7200</td>\n      <td>5.9</td>\n      <td>no</td>\n      <td>no</td>\n      <td>no</td>\n      <td>good</td>\n      <td>no</td>\n      <td>no</td>\n      <td>notckd</td>\n    </tr>\n    <tr>\n      <th>399</th>\n      <td>normal</td>\n      <td>normal</td>\n      <td>notpresent</td>\n      <td>notpresent</td>\n      <td>53</td>\n      <td>6800</td>\n      <td>6.1</td>\n      <td>no</td>\n      <td>no</td>\n      <td>no</td>\n      <td>good</td>\n      <td>no</td>\n      <td>no</td>\n      <td>notckd</td>\n    </tr>\n  </tbody>\n</table>\n<p>400 rows × 14 columns</p>\n</div>"
          },
          "metadata": {}
        }
      ],
      "execution_count": 27
    },
    {
      "cell_type": "code",
      "source": "dataset.dtypes",
      "metadata": {
        "trusted": true
      },
      "outputs": [
        {
          "execution_count": 28,
          "output_type": "execute_result",
          "data": {
            "text/plain": "id                  int64\nage               float64\nbp                float64\nsg                float64\nal                float64\nsu                float64\nrbc                object\npc                 object\npcc                object\nba                 object\nbgr               float64\nbu                float64\nsc                float64\nsod               float64\npot               float64\nhemo              float64\npcv                object\nwc                 object\nrc                 object\nhtn                object\ndm                 object\ncad                object\nappet              object\npe                 object\nane                object\nclassification     object\ndtype: object"
          },
          "metadata": {}
        }
      ],
      "execution_count": 28
    },
    {
      "cell_type": "code",
      "source": "categorical = dataset[qual]",
      "metadata": {
        "trusted": true
      },
      "outputs": [],
      "execution_count": 34
    },
    {
      "cell_type": "code",
      "source": "categorical",
      "metadata": {
        "trusted": true
      },
      "outputs": [
        {
          "execution_count": 78,
          "output_type": "execute_result",
          "data": {
            "text/plain": "            rbc        pc         pcc          ba pcv    wc  \\\n0    notpresent    normal  notpresent  notpresent  44  7800   \n1    notpresent    normal  notpresent  notpresent  38  6000   \n2        normal    normal  notpresent  notpresent  31  7500   \n3        normal  abnormal     present  notpresent  32  6700   \n4        normal    normal  notpresent  notpresent  35  7300   \n..          ...       ...         ...         ...  ..   ...   \n395      normal    normal  notpresent  notpresent  47  6700   \n396      normal    normal  notpresent  notpresent  54  7800   \n397      normal    normal  notpresent  notpresent  49  6600   \n398      normal    normal  notpresent  notpresent  51  7200   \n399      normal    normal  notpresent  notpresent  53  6800   \n\n                                                    rc  htn   dm cad appet  \\\n0                                                  5.2  yes  yes  no  good   \n1    <bound method NDFrame._add_numeric_operations....   no   no  no  good   \n2    <bound method NDFrame._add_numeric_operations....   no  yes  no  poor   \n3                                                  3.9  yes   no  no  poor   \n4                                                  4.6   no   no  no  good   \n..                                                 ...  ...  ...  ..   ...   \n395                                                4.9   no   no  no  good   \n396                                                6.2   no   no  no  good   \n397                                                5.4   no   no  no  good   \n398                                                5.9   no   no  no  good   \n399                                                6.1   no   no  no  good   \n\n      pe  ane classification  \n0     no   no            ckd  \n1     no   no            ckd  \n2     no  yes            ckd  \n3    yes  yes            ckd  \n4     no   no            ckd  \n..   ...  ...            ...  \n395   no   no         notckd  \n396   no   no         notckd  \n397   no   no         notckd  \n398   no   no         notckd  \n399   no   no         notckd  \n\n[400 rows x 14 columns]",
            "text/html": "<div>\n<style scoped>\n    .dataframe tbody tr th:only-of-type {\n        vertical-align: middle;\n    }\n\n    .dataframe tbody tr th {\n        vertical-align: top;\n    }\n\n    .dataframe thead th {\n        text-align: right;\n    }\n</style>\n<table border=\"1\" class=\"dataframe\">\n  <thead>\n    <tr style=\"text-align: right;\">\n      <th></th>\n      <th>rbc</th>\n      <th>pc</th>\n      <th>pcc</th>\n      <th>ba</th>\n      <th>pcv</th>\n      <th>wc</th>\n      <th>rc</th>\n      <th>htn</th>\n      <th>dm</th>\n      <th>cad</th>\n      <th>appet</th>\n      <th>pe</th>\n      <th>ane</th>\n      <th>classification</th>\n    </tr>\n  </thead>\n  <tbody>\n    <tr>\n      <th>0</th>\n      <td>notpresent</td>\n      <td>normal</td>\n      <td>notpresent</td>\n      <td>notpresent</td>\n      <td>44</td>\n      <td>7800</td>\n      <td>5.2</td>\n      <td>yes</td>\n      <td>yes</td>\n      <td>no</td>\n      <td>good</td>\n      <td>no</td>\n      <td>no</td>\n      <td>ckd</td>\n    </tr>\n    <tr>\n      <th>1</th>\n      <td>notpresent</td>\n      <td>normal</td>\n      <td>notpresent</td>\n      <td>notpresent</td>\n      <td>38</td>\n      <td>6000</td>\n      <td>&lt;bound method NDFrame._add_numeric_operations....</td>\n      <td>no</td>\n      <td>no</td>\n      <td>no</td>\n      <td>good</td>\n      <td>no</td>\n      <td>no</td>\n      <td>ckd</td>\n    </tr>\n    <tr>\n      <th>2</th>\n      <td>normal</td>\n      <td>normal</td>\n      <td>notpresent</td>\n      <td>notpresent</td>\n      <td>31</td>\n      <td>7500</td>\n      <td>&lt;bound method NDFrame._add_numeric_operations....</td>\n      <td>no</td>\n      <td>yes</td>\n      <td>no</td>\n      <td>poor</td>\n      <td>no</td>\n      <td>yes</td>\n      <td>ckd</td>\n    </tr>\n    <tr>\n      <th>3</th>\n      <td>normal</td>\n      <td>abnormal</td>\n      <td>present</td>\n      <td>notpresent</td>\n      <td>32</td>\n      <td>6700</td>\n      <td>3.9</td>\n      <td>yes</td>\n      <td>no</td>\n      <td>no</td>\n      <td>poor</td>\n      <td>yes</td>\n      <td>yes</td>\n      <td>ckd</td>\n    </tr>\n    <tr>\n      <th>4</th>\n      <td>normal</td>\n      <td>normal</td>\n      <td>notpresent</td>\n      <td>notpresent</td>\n      <td>35</td>\n      <td>7300</td>\n      <td>4.6</td>\n      <td>no</td>\n      <td>no</td>\n      <td>no</td>\n      <td>good</td>\n      <td>no</td>\n      <td>no</td>\n      <td>ckd</td>\n    </tr>\n    <tr>\n      <th>...</th>\n      <td>...</td>\n      <td>...</td>\n      <td>...</td>\n      <td>...</td>\n      <td>...</td>\n      <td>...</td>\n      <td>...</td>\n      <td>...</td>\n      <td>...</td>\n      <td>...</td>\n      <td>...</td>\n      <td>...</td>\n      <td>...</td>\n      <td>...</td>\n    </tr>\n    <tr>\n      <th>395</th>\n      <td>normal</td>\n      <td>normal</td>\n      <td>notpresent</td>\n      <td>notpresent</td>\n      <td>47</td>\n      <td>6700</td>\n      <td>4.9</td>\n      <td>no</td>\n      <td>no</td>\n      <td>no</td>\n      <td>good</td>\n      <td>no</td>\n      <td>no</td>\n      <td>notckd</td>\n    </tr>\n    <tr>\n      <th>396</th>\n      <td>normal</td>\n      <td>normal</td>\n      <td>notpresent</td>\n      <td>notpresent</td>\n      <td>54</td>\n      <td>7800</td>\n      <td>6.2</td>\n      <td>no</td>\n      <td>no</td>\n      <td>no</td>\n      <td>good</td>\n      <td>no</td>\n      <td>no</td>\n      <td>notckd</td>\n    </tr>\n    <tr>\n      <th>397</th>\n      <td>normal</td>\n      <td>normal</td>\n      <td>notpresent</td>\n      <td>notpresent</td>\n      <td>49</td>\n      <td>6600</td>\n      <td>5.4</td>\n      <td>no</td>\n      <td>no</td>\n      <td>no</td>\n      <td>good</td>\n      <td>no</td>\n      <td>no</td>\n      <td>notckd</td>\n    </tr>\n    <tr>\n      <th>398</th>\n      <td>normal</td>\n      <td>normal</td>\n      <td>notpresent</td>\n      <td>notpresent</td>\n      <td>51</td>\n      <td>7200</td>\n      <td>5.9</td>\n      <td>no</td>\n      <td>no</td>\n      <td>no</td>\n      <td>good</td>\n      <td>no</td>\n      <td>no</td>\n      <td>notckd</td>\n    </tr>\n    <tr>\n      <th>399</th>\n      <td>normal</td>\n      <td>normal</td>\n      <td>notpresent</td>\n      <td>notpresent</td>\n      <td>53</td>\n      <td>6800</td>\n      <td>6.1</td>\n      <td>no</td>\n      <td>no</td>\n      <td>no</td>\n      <td>good</td>\n      <td>no</td>\n      <td>no</td>\n      <td>notckd</td>\n    </tr>\n  </tbody>\n</table>\n<p>400 rows × 14 columns</p>\n</div>"
          },
          "metadata": {}
        }
      ],
      "execution_count": 78
    },
    {
      "cell_type": "code",
      "source": "categorical.isna().sum()",
      "metadata": {
        "trusted": true
      },
      "outputs": [
        {
          "execution_count": 79,
          "output_type": "execute_result",
          "data": {
            "text/plain": "rbc               0\npc                0\npcc               0\nba                0\npcv               0\nwc                0\nrc                0\nhtn               0\ndm                0\ncad               0\nappet             0\npe                0\nane               0\nclassification    0\ndtype: int64"
          },
          "metadata": {}
        }
      ],
      "execution_count": 79
    },
    {
      "cell_type": "code",
      "source": "categorical['pcc'].fillna(\"notpresent\", inplace = True)",
      "metadata": {
        "trusted": true
      },
      "outputs": [
        {
          "name": "stderr",
          "text": "<ipython-input-38-de1e2481bdbe>:1: SettingWithCopyWarning: \nA value is trying to be set on a copy of a slice from a DataFrame\n\nSee the caveats in the documentation: https://pandas.pydata.org/pandas-docs/stable/user_guide/indexing.html#returning-a-view-versus-a-copy\n  categorical['pcc'].fillna(\"notpresent\", inplace = True)\n",
          "output_type": "stream"
        }
      ],
      "execution_count": 38
    },
    {
      "cell_type": "code",
      "source": "categorical['ba'].fillna(\"notpresent\", inplace = True)",
      "metadata": {
        "trusted": true
      },
      "outputs": [
        {
          "name": "stderr",
          "text": "<ipython-input-43-502332f05991>:1: SettingWithCopyWarning: \nA value is trying to be set on a copy of a slice from a DataFrame\n\nSee the caveats in the documentation: https://pandas.pydata.org/pandas-docs/stable/user_guide/indexing.html#returning-a-view-versus-a-copy\n  categorical['ba'].fillna(\"notpresent\", inplace = True)\n",
          "output_type": "stream"
        }
      ],
      "execution_count": 43
    },
    {
      "cell_type": "code",
      "source": "categorical['htn'].fillna('no',inplace = True)",
      "metadata": {
        "trusted": true
      },
      "outputs": [
        {
          "name": "stderr",
          "text": "<ipython-input-52-eaada2d6dd38>:1: SettingWithCopyWarning: \nA value is trying to be set on a copy of a slice from a DataFrame\n\nSee the caveats in the documentation: https://pandas.pydata.org/pandas-docs/stable/user_guide/indexing.html#returning-a-view-versus-a-copy\n  categorical['htn'].fillna('no',inplace = True)\n",
          "output_type": "stream"
        }
      ],
      "execution_count": 52
    },
    {
      "cell_type": "code",
      "source": "categorical['ane'].fillna('no',inplace = True)",
      "metadata": {
        "trusted": true
      },
      "outputs": [
        {
          "name": "stderr",
          "text": "<ipython-input-60-28ad848930af>:1: SettingWithCopyWarning: \nA value is trying to be set on a copy of a slice from a DataFrame\n\nSee the caveats in the documentation: https://pandas.pydata.org/pandas-docs/stable/user_guide/indexing.html#returning-a-view-versus-a-copy\n  categorical['ane'].fillna('no',inplace = True)\n",
          "output_type": "stream"
        }
      ],
      "execution_count": 60
    },
    {
      "cell_type": "code",
      "source": "categorical['pc'].fillna(\"notpresent\", inplace = True)",
      "metadata": {
        "trusted": true
      },
      "outputs": [
        {
          "name": "stderr",
          "text": "<ipython-input-64-2774e18379c7>:1: SettingWithCopyWarning: \nA value is trying to be set on a copy of a slice from a DataFrame\n\nSee the caveats in the documentation: https://pandas.pydata.org/pandas-docs/stable/user_guide/indexing.html#returning-a-view-versus-a-copy\n  categorical['pc'].fillna(\"notpresent\", inplace = True)\n",
          "output_type": "stream"
        }
      ],
      "execution_count": 64
    },
    {
      "cell_type": "code",
      "source": "categorical['pcv'].fillna(categorical['pcv'].mode()[0], inplace = True)",
      "metadata": {
        "trusted": true
      },
      "outputs": [
        {
          "name": "stderr",
          "text": "<ipython-input-69-4ceed0e912d5>:1: SettingWithCopyWarning: \nA value is trying to be set on a copy of a slice from a DataFrame\n\nSee the caveats in the documentation: https://pandas.pydata.org/pandas-docs/stable/user_guide/indexing.html#returning-a-view-versus-a-copy\n  categorical['pcv'].fillna(categorical['pcv'].mode()[0], inplace = True)\n",
          "output_type": "stream"
        }
      ],
      "execution_count": 69
    },
    {
      "cell_type": "code",
      "source": "categorical['rc'].fillna(categorical['pcv'].mean, inplace = True)",
      "metadata": {
        "trusted": true
      },
      "outputs": [
        {
          "name": "stderr",
          "text": "<ipython-input-76-b7a205ebfc9e>:1: SettingWithCopyWarning: \nA value is trying to be set on a copy of a slice from a DataFrame\n\nSee the caveats in the documentation: https://pandas.pydata.org/pandas-docs/stable/user_guide/indexing.html#returning-a-view-versus-a-copy\n  categorical['rc'].fillna(categorical['pcv'].mean, inplace = True)\n",
          "output_type": "stream"
        }
      ],
      "execution_count": 76
    },
    {
      "cell_type": "code",
      "source": "prep=[df,categorical]",
      "metadata": {
        "trusted": true
      },
      "outputs": [],
      "execution_count": 80
    },
    {
      "cell_type": "code",
      "source": "preprocessed=pd.concat(prep,axis=1)",
      "metadata": {
        "trusted": true
      },
      "outputs": [],
      "execution_count": 81
    },
    {
      "cell_type": "code",
      "source": "preprocessed",
      "metadata": {
        "trusted": true
      },
      "outputs": [
        {
          "execution_count": 82,
          "output_type": "execute_result",
          "data": {
            "text/plain": "        id   age    bp     sg   al   su         bgr    bu   sc         sod  \\\n0      0.0  48.0  80.0  1.020  1.0  0.0  121.000000  36.0  1.2  137.528754   \n1      1.0   7.0  50.0  1.020  4.0  0.0  148.036517  18.0  0.8  137.528754   \n2      2.0  62.0  80.0  1.010  2.0  3.0  423.000000  53.0  1.8  137.528754   \n3      3.0  48.0  70.0  1.005  4.0  0.0  117.000000  56.0  3.8  111.000000   \n4      4.0  51.0  80.0  1.010  2.0  0.0  106.000000  26.0  1.4  137.528754   \n..     ...   ...   ...    ...  ...  ...         ...   ...  ...         ...   \n395  395.0  55.0  80.0  1.020  0.0  0.0  140.000000  49.0  0.5  150.000000   \n396  396.0  42.0  70.0  1.025  0.0  0.0   75.000000  31.0  1.2  141.000000   \n397  397.0  12.0  80.0  1.020  0.0  0.0  100.000000  26.0  0.6  137.000000   \n398  398.0  17.0  60.0  1.025  0.0  0.0  114.000000  50.0  1.0  135.000000   \n399  399.0  58.0  80.0  1.025  0.0  0.0  131.000000  18.0  1.1  141.000000   \n\n     ...  pcv    wc                                                 rc  htn  \\\n0    ...   44  7800                                                5.2  yes   \n1    ...   38  6000  <bound method NDFrame._add_numeric_operations....   no   \n2    ...   31  7500  <bound method NDFrame._add_numeric_operations....   no   \n3    ...   32  6700                                                3.9  yes   \n4    ...   35  7300                                                4.6   no   \n..   ...  ...   ...                                                ...  ...   \n395  ...   47  6700                                                4.9   no   \n396  ...   54  7800                                                6.2   no   \n397  ...   49  6600                                                5.4   no   \n398  ...   51  7200                                                5.9   no   \n399  ...   53  6800                                                6.1   no   \n\n      dm cad appet   pe  ane classification  \n0    yes  no  good   no   no            ckd  \n1     no  no  good   no   no            ckd  \n2    yes  no  poor   no  yes            ckd  \n3     no  no  poor  yes  yes            ckd  \n4     no  no  good   no   no            ckd  \n..   ...  ..   ...  ...  ...            ...  \n395   no  no  good   no   no         notckd  \n396   no  no  good   no   no         notckd  \n397   no  no  good   no   no         notckd  \n398   no  no  good   no   no         notckd  \n399   no  no  good   no   no         notckd  \n\n[400 rows x 26 columns]",
            "text/html": "<div>\n<style scoped>\n    .dataframe tbody tr th:only-of-type {\n        vertical-align: middle;\n    }\n\n    .dataframe tbody tr th {\n        vertical-align: top;\n    }\n\n    .dataframe thead th {\n        text-align: right;\n    }\n</style>\n<table border=\"1\" class=\"dataframe\">\n  <thead>\n    <tr style=\"text-align: right;\">\n      <th></th>\n      <th>id</th>\n      <th>age</th>\n      <th>bp</th>\n      <th>sg</th>\n      <th>al</th>\n      <th>su</th>\n      <th>bgr</th>\n      <th>bu</th>\n      <th>sc</th>\n      <th>sod</th>\n      <th>...</th>\n      <th>pcv</th>\n      <th>wc</th>\n      <th>rc</th>\n      <th>htn</th>\n      <th>dm</th>\n      <th>cad</th>\n      <th>appet</th>\n      <th>pe</th>\n      <th>ane</th>\n      <th>classification</th>\n    </tr>\n  </thead>\n  <tbody>\n    <tr>\n      <th>0</th>\n      <td>0.0</td>\n      <td>48.0</td>\n      <td>80.0</td>\n      <td>1.020</td>\n      <td>1.0</td>\n      <td>0.0</td>\n      <td>121.000000</td>\n      <td>36.0</td>\n      <td>1.2</td>\n      <td>137.528754</td>\n      <td>...</td>\n      <td>44</td>\n      <td>7800</td>\n      <td>5.2</td>\n      <td>yes</td>\n      <td>yes</td>\n      <td>no</td>\n      <td>good</td>\n      <td>no</td>\n      <td>no</td>\n      <td>ckd</td>\n    </tr>\n    <tr>\n      <th>1</th>\n      <td>1.0</td>\n      <td>7.0</td>\n      <td>50.0</td>\n      <td>1.020</td>\n      <td>4.0</td>\n      <td>0.0</td>\n      <td>148.036517</td>\n      <td>18.0</td>\n      <td>0.8</td>\n      <td>137.528754</td>\n      <td>...</td>\n      <td>38</td>\n      <td>6000</td>\n      <td>&lt;bound method NDFrame._add_numeric_operations....</td>\n      <td>no</td>\n      <td>no</td>\n      <td>no</td>\n      <td>good</td>\n      <td>no</td>\n      <td>no</td>\n      <td>ckd</td>\n    </tr>\n    <tr>\n      <th>2</th>\n      <td>2.0</td>\n      <td>62.0</td>\n      <td>80.0</td>\n      <td>1.010</td>\n      <td>2.0</td>\n      <td>3.0</td>\n      <td>423.000000</td>\n      <td>53.0</td>\n      <td>1.8</td>\n      <td>137.528754</td>\n      <td>...</td>\n      <td>31</td>\n      <td>7500</td>\n      <td>&lt;bound method NDFrame._add_numeric_operations....</td>\n      <td>no</td>\n      <td>yes</td>\n      <td>no</td>\n      <td>poor</td>\n      <td>no</td>\n      <td>yes</td>\n      <td>ckd</td>\n    </tr>\n    <tr>\n      <th>3</th>\n      <td>3.0</td>\n      <td>48.0</td>\n      <td>70.0</td>\n      <td>1.005</td>\n      <td>4.0</td>\n      <td>0.0</td>\n      <td>117.000000</td>\n      <td>56.0</td>\n      <td>3.8</td>\n      <td>111.000000</td>\n      <td>...</td>\n      <td>32</td>\n      <td>6700</td>\n      <td>3.9</td>\n      <td>yes</td>\n      <td>no</td>\n      <td>no</td>\n      <td>poor</td>\n      <td>yes</td>\n      <td>yes</td>\n      <td>ckd</td>\n    </tr>\n    <tr>\n      <th>4</th>\n      <td>4.0</td>\n      <td>51.0</td>\n      <td>80.0</td>\n      <td>1.010</td>\n      <td>2.0</td>\n      <td>0.0</td>\n      <td>106.000000</td>\n      <td>26.0</td>\n      <td>1.4</td>\n      <td>137.528754</td>\n      <td>...</td>\n      <td>35</td>\n      <td>7300</td>\n      <td>4.6</td>\n      <td>no</td>\n      <td>no</td>\n      <td>no</td>\n      <td>good</td>\n      <td>no</td>\n      <td>no</td>\n      <td>ckd</td>\n    </tr>\n    <tr>\n      <th>...</th>\n      <td>...</td>\n      <td>...</td>\n      <td>...</td>\n      <td>...</td>\n      <td>...</td>\n      <td>...</td>\n      <td>...</td>\n      <td>...</td>\n      <td>...</td>\n      <td>...</td>\n      <td>...</td>\n      <td>...</td>\n      <td>...</td>\n      <td>...</td>\n      <td>...</td>\n      <td>...</td>\n      <td>...</td>\n      <td>...</td>\n      <td>...</td>\n      <td>...</td>\n      <td>...</td>\n    </tr>\n    <tr>\n      <th>395</th>\n      <td>395.0</td>\n      <td>55.0</td>\n      <td>80.0</td>\n      <td>1.020</td>\n      <td>0.0</td>\n      <td>0.0</td>\n      <td>140.000000</td>\n      <td>49.0</td>\n      <td>0.5</td>\n      <td>150.000000</td>\n      <td>...</td>\n      <td>47</td>\n      <td>6700</td>\n      <td>4.9</td>\n      <td>no</td>\n      <td>no</td>\n      <td>no</td>\n      <td>good</td>\n      <td>no</td>\n      <td>no</td>\n      <td>notckd</td>\n    </tr>\n    <tr>\n      <th>396</th>\n      <td>396.0</td>\n      <td>42.0</td>\n      <td>70.0</td>\n      <td>1.025</td>\n      <td>0.0</td>\n      <td>0.0</td>\n      <td>75.000000</td>\n      <td>31.0</td>\n      <td>1.2</td>\n      <td>141.000000</td>\n      <td>...</td>\n      <td>54</td>\n      <td>7800</td>\n      <td>6.2</td>\n      <td>no</td>\n      <td>no</td>\n      <td>no</td>\n      <td>good</td>\n      <td>no</td>\n      <td>no</td>\n      <td>notckd</td>\n    </tr>\n    <tr>\n      <th>397</th>\n      <td>397.0</td>\n      <td>12.0</td>\n      <td>80.0</td>\n      <td>1.020</td>\n      <td>0.0</td>\n      <td>0.0</td>\n      <td>100.000000</td>\n      <td>26.0</td>\n      <td>0.6</td>\n      <td>137.000000</td>\n      <td>...</td>\n      <td>49</td>\n      <td>6600</td>\n      <td>5.4</td>\n      <td>no</td>\n      <td>no</td>\n      <td>no</td>\n      <td>good</td>\n      <td>no</td>\n      <td>no</td>\n      <td>notckd</td>\n    </tr>\n    <tr>\n      <th>398</th>\n      <td>398.0</td>\n      <td>17.0</td>\n      <td>60.0</td>\n      <td>1.025</td>\n      <td>0.0</td>\n      <td>0.0</td>\n      <td>114.000000</td>\n      <td>50.0</td>\n      <td>1.0</td>\n      <td>135.000000</td>\n      <td>...</td>\n      <td>51</td>\n      <td>7200</td>\n      <td>5.9</td>\n      <td>no</td>\n      <td>no</td>\n      <td>no</td>\n      <td>good</td>\n      <td>no</td>\n      <td>no</td>\n      <td>notckd</td>\n    </tr>\n    <tr>\n      <th>399</th>\n      <td>399.0</td>\n      <td>58.0</td>\n      <td>80.0</td>\n      <td>1.025</td>\n      <td>0.0</td>\n      <td>0.0</td>\n      <td>131.000000</td>\n      <td>18.0</td>\n      <td>1.1</td>\n      <td>141.000000</td>\n      <td>...</td>\n      <td>53</td>\n      <td>6800</td>\n      <td>6.1</td>\n      <td>no</td>\n      <td>no</td>\n      <td>no</td>\n      <td>good</td>\n      <td>no</td>\n      <td>no</td>\n      <td>notckd</td>\n    </tr>\n  </tbody>\n</table>\n<p>400 rows × 26 columns</p>\n</div>"
          },
          "metadata": {}
        }
      ],
      "execution_count": 82
    },
    {
      "cell_type": "code",
      "source": "preprocessed.isna().sum()",
      "metadata": {
        "trusted": true
      },
      "outputs": [
        {
          "execution_count": 84,
          "output_type": "execute_result",
          "data": {
            "text/plain": "id                0\nage               0\nbp                0\nsg                0\nal                0\nsu                0\nbgr               0\nbu                0\nsc                0\nsod               0\npot               0\nhemo              0\nrbc               0\npc                0\npcc               0\nba                0\npcv               0\nwc                0\nrc                0\nhtn               0\ndm                0\ncad               0\nappet             0\npe                0\nane               0\nclassification    0\ndtype: int64"
          },
          "metadata": {}
        }
      ],
      "execution_count": 84
    },
    {
      "cell_type": "code",
      "source": "",
      "metadata": {
        "trusted": true
      },
      "outputs": [],
      "execution_count": null
    }
  ]
}