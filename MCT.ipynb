{
  "metadata": {
    "kernelspec": {
      "name": "python",
      "display_name": "Python (Pyodide)",
      "language": "python"
    },
    "language_info": {
      "codemirror_mode": {
        "name": "python",
        "version": 3
      },
      "file_extension": ".py",
      "mimetype": "text/x-python",
      "name": "python",
      "nbconvert_exporter": "python",
      "pygments_lexer": "ipython3",
      "version": "3.8"
    }
  },
  "nbformat_minor": 4,
  "nbformat": 4,
  "cells": [
    {
      "cell_type": "code",
      "source": "import pandas as pd\nimport numpy as np\n%load Class_uni.py",
      "metadata": {
        "trusted": true
      },
      "outputs": [],
      "execution_count": 1
    },
    {
      "cell_type": "code",
      "source": "dataset = pd.read_csv(\"Placement.csv\")",
      "metadata": {
        "trusted": true
      },
      "outputs": [],
      "execution_count": 13
    },
    {
      "cell_type": "code",
      "source": "dataset",
      "metadata": {
        "trusted": true
      },
      "outputs": [
        {
          "execution_count": 23,
          "output_type": "execute_result",
          "data": {
            "text/plain": "     sl_no gender  ssc_p    ssc_b  hsc_p    hsc_b     hsc_s  degree_p  \\\n0        1      M  67.00   Others  91.00   Others  Commerce     58.00   \n1        2      M  79.33  Central  78.33   Others   Science     77.48   \n2        3      M  65.00  Central  68.00  Central      Arts     64.00   \n3        4      M  56.00  Central  52.00  Central   Science     52.00   \n4        5      M  85.80  Central  73.60  Central  Commerce     73.30   \n..     ...    ...    ...      ...    ...      ...       ...       ...   \n210    211      M  80.60   Others  82.00   Others  Commerce     77.60   \n211    212      M  58.00   Others  60.00   Others   Science     72.00   \n212    213      M  67.00   Others  67.00   Others  Commerce     73.00   \n213    214      F  74.00   Others  66.00   Others  Commerce     58.00   \n214    215      M  62.00  Central  58.00   Others   Science     53.00   \n\n      degree_t workex  etest_p specialisation  mba_p      status    salary  \n0     Sci&Tech     No     55.0         Mkt&HR  58.80      Placed  270000.0  \n1     Sci&Tech    Yes     86.5        Mkt&Fin  66.28      Placed  200000.0  \n2    Comm&Mgmt     No     75.0        Mkt&Fin  57.80      Placed  250000.0  \n3     Sci&Tech     No     66.0         Mkt&HR  59.43  Not Placed       NaN  \n4    Comm&Mgmt     No     96.8        Mkt&Fin  55.50      Placed  390000.0  \n..         ...    ...      ...            ...    ...         ...       ...  \n210  Comm&Mgmt     No     91.0        Mkt&Fin  74.49      Placed  390000.0  \n211   Sci&Tech     No     74.0        Mkt&Fin  53.62      Placed  275000.0  \n212  Comm&Mgmt    Yes     59.0        Mkt&Fin  69.72      Placed  295000.0  \n213  Comm&Mgmt     No     70.0         Mkt&HR  60.23      Placed  204000.0  \n214  Comm&Mgmt     No     89.0         Mkt&HR  60.22  Not Placed       NaN  \n\n[215 rows x 15 columns]",
            "text/html": "<div>\n<style scoped>\n    .dataframe tbody tr th:only-of-type {\n        vertical-align: middle;\n    }\n\n    .dataframe tbody tr th {\n        vertical-align: top;\n    }\n\n    .dataframe thead th {\n        text-align: right;\n    }\n</style>\n<table border=\"1\" class=\"dataframe\">\n  <thead>\n    <tr style=\"text-align: right;\">\n      <th></th>\n      <th>sl_no</th>\n      <th>gender</th>\n      <th>ssc_p</th>\n      <th>ssc_b</th>\n      <th>hsc_p</th>\n      <th>hsc_b</th>\n      <th>hsc_s</th>\n      <th>degree_p</th>\n      <th>degree_t</th>\n      <th>workex</th>\n      <th>etest_p</th>\n      <th>specialisation</th>\n      <th>mba_p</th>\n      <th>status</th>\n      <th>salary</th>\n    </tr>\n  </thead>\n  <tbody>\n    <tr>\n      <th>0</th>\n      <td>1</td>\n      <td>M</td>\n      <td>67.00</td>\n      <td>Others</td>\n      <td>91.00</td>\n      <td>Others</td>\n      <td>Commerce</td>\n      <td>58.00</td>\n      <td>Sci&amp;Tech</td>\n      <td>No</td>\n      <td>55.0</td>\n      <td>Mkt&amp;HR</td>\n      <td>58.80</td>\n      <td>Placed</td>\n      <td>270000.0</td>\n    </tr>\n    <tr>\n      <th>1</th>\n      <td>2</td>\n      <td>M</td>\n      <td>79.33</td>\n      <td>Central</td>\n      <td>78.33</td>\n      <td>Others</td>\n      <td>Science</td>\n      <td>77.48</td>\n      <td>Sci&amp;Tech</td>\n      <td>Yes</td>\n      <td>86.5</td>\n      <td>Mkt&amp;Fin</td>\n      <td>66.28</td>\n      <td>Placed</td>\n      <td>200000.0</td>\n    </tr>\n    <tr>\n      <th>2</th>\n      <td>3</td>\n      <td>M</td>\n      <td>65.00</td>\n      <td>Central</td>\n      <td>68.00</td>\n      <td>Central</td>\n      <td>Arts</td>\n      <td>64.00</td>\n      <td>Comm&amp;Mgmt</td>\n      <td>No</td>\n      <td>75.0</td>\n      <td>Mkt&amp;Fin</td>\n      <td>57.80</td>\n      <td>Placed</td>\n      <td>250000.0</td>\n    </tr>\n    <tr>\n      <th>3</th>\n      <td>4</td>\n      <td>M</td>\n      <td>56.00</td>\n      <td>Central</td>\n      <td>52.00</td>\n      <td>Central</td>\n      <td>Science</td>\n      <td>52.00</td>\n      <td>Sci&amp;Tech</td>\n      <td>No</td>\n      <td>66.0</td>\n      <td>Mkt&amp;HR</td>\n      <td>59.43</td>\n      <td>Not Placed</td>\n      <td>NaN</td>\n    </tr>\n    <tr>\n      <th>4</th>\n      <td>5</td>\n      <td>M</td>\n      <td>85.80</td>\n      <td>Central</td>\n      <td>73.60</td>\n      <td>Central</td>\n      <td>Commerce</td>\n      <td>73.30</td>\n      <td>Comm&amp;Mgmt</td>\n      <td>No</td>\n      <td>96.8</td>\n      <td>Mkt&amp;Fin</td>\n      <td>55.50</td>\n      <td>Placed</td>\n      <td>390000.0</td>\n    </tr>\n    <tr>\n      <th>...</th>\n      <td>...</td>\n      <td>...</td>\n      <td>...</td>\n      <td>...</td>\n      <td>...</td>\n      <td>...</td>\n      <td>...</td>\n      <td>...</td>\n      <td>...</td>\n      <td>...</td>\n      <td>...</td>\n      <td>...</td>\n      <td>...</td>\n      <td>...</td>\n      <td>...</td>\n    </tr>\n    <tr>\n      <th>210</th>\n      <td>211</td>\n      <td>M</td>\n      <td>80.60</td>\n      <td>Others</td>\n      <td>82.00</td>\n      <td>Others</td>\n      <td>Commerce</td>\n      <td>77.60</td>\n      <td>Comm&amp;Mgmt</td>\n      <td>No</td>\n      <td>91.0</td>\n      <td>Mkt&amp;Fin</td>\n      <td>74.49</td>\n      <td>Placed</td>\n      <td>390000.0</td>\n    </tr>\n    <tr>\n      <th>211</th>\n      <td>212</td>\n      <td>M</td>\n      <td>58.00</td>\n      <td>Others</td>\n      <td>60.00</td>\n      <td>Others</td>\n      <td>Science</td>\n      <td>72.00</td>\n      <td>Sci&amp;Tech</td>\n      <td>No</td>\n      <td>74.0</td>\n      <td>Mkt&amp;Fin</td>\n      <td>53.62</td>\n      <td>Placed</td>\n      <td>275000.0</td>\n    </tr>\n    <tr>\n      <th>212</th>\n      <td>213</td>\n      <td>M</td>\n      <td>67.00</td>\n      <td>Others</td>\n      <td>67.00</td>\n      <td>Others</td>\n      <td>Commerce</td>\n      <td>73.00</td>\n      <td>Comm&amp;Mgmt</td>\n      <td>Yes</td>\n      <td>59.0</td>\n      <td>Mkt&amp;Fin</td>\n      <td>69.72</td>\n      <td>Placed</td>\n      <td>295000.0</td>\n    </tr>\n    <tr>\n      <th>213</th>\n      <td>214</td>\n      <td>F</td>\n      <td>74.00</td>\n      <td>Others</td>\n      <td>66.00</td>\n      <td>Others</td>\n      <td>Commerce</td>\n      <td>58.00</td>\n      <td>Comm&amp;Mgmt</td>\n      <td>No</td>\n      <td>70.0</td>\n      <td>Mkt&amp;HR</td>\n      <td>60.23</td>\n      <td>Placed</td>\n      <td>204000.0</td>\n    </tr>\n    <tr>\n      <th>214</th>\n      <td>215</td>\n      <td>M</td>\n      <td>62.00</td>\n      <td>Central</td>\n      <td>58.00</td>\n      <td>Others</td>\n      <td>Science</td>\n      <td>53.00</td>\n      <td>Comm&amp;Mgmt</td>\n      <td>No</td>\n      <td>89.0</td>\n      <td>Mkt&amp;HR</td>\n      <td>60.22</td>\n      <td>Not Placed</td>\n      <td>NaN</td>\n    </tr>\n  </tbody>\n</table>\n<p>215 rows × 15 columns</p>\n</div>"
          },
          "metadata": {}
        }
      ],
      "execution_count": 23
    },
    {
      "cell_type": "code",
      "source": "quan = []\nqual = []\nfor columnname in dataset.columns:\n    if dataset[columnname].dtypes != 'object':\n        #print(columnname)\n        quan.append(columnname)\n    else:\n        qual.append(columnname)\nprint(quan)\nprint(qual)",
      "metadata": {
        "trusted": true
      },
      "outputs": [
        {
          "name": "stdout",
          "text": "['sl_no', 'ssc_p', 'hsc_p', 'degree_p', 'etest_p', 'mba_p', 'salary']\n['gender', 'ssc_b', 'hsc_b', 'hsc_s', 'degree_t', 'workex', 'specialisation', 'status']\n",
          "output_type": "stream"
        }
      ],
      "execution_count": 24
    },
    {
      "cell_type": "code",
      "source": "from Class_uni import *",
      "metadata": {
        "trusted": true
      },
      "outputs": [],
      "execution_count": 25
    },
    {
      "cell_type": "code",
      "source": "#frequency table\nUnivariate.freqtable('ssc_p',dataset)",
      "metadata": {
        "trusted": true
      },
      "outputs": [
        {
          "execution_count": 16,
          "output_type": "execute_result",
          "data": {
            "text/plain": "     Unique Values  Frequency  Relative Frequency    Cumsum\n0            62.00         11            0.106796  0.106796\n1            63.00         10            0.097087  0.203883\n2            67.00          9            0.087379  0.291262\n3            52.00          9            0.087379  0.378641\n4            73.00          9            0.087379  0.466019\n..             ...        ...                 ...       ...\n98           69.70          1            0.009709  2.048544\n99           80.92          1            0.009709  2.058252\n100          83.00          1            0.009709  2.067961\n101          86.50          1            0.009709  2.077670\n102          80.60          1            0.009709  2.087379\n\n[103 rows x 4 columns]",
            "text/html": "<div>\n<style scoped>\n    .dataframe tbody tr th:only-of-type {\n        vertical-align: middle;\n    }\n\n    .dataframe tbody tr th {\n        vertical-align: top;\n    }\n\n    .dataframe thead th {\n        text-align: right;\n    }\n</style>\n<table border=\"1\" class=\"dataframe\">\n  <thead>\n    <tr style=\"text-align: right;\">\n      <th></th>\n      <th>Unique Values</th>\n      <th>Frequency</th>\n      <th>Relative Frequency</th>\n      <th>Cumsum</th>\n    </tr>\n  </thead>\n  <tbody>\n    <tr>\n      <th>0</th>\n      <td>62.00</td>\n      <td>11</td>\n      <td>0.106796</td>\n      <td>0.106796</td>\n    </tr>\n    <tr>\n      <th>1</th>\n      <td>63.00</td>\n      <td>10</td>\n      <td>0.097087</td>\n      <td>0.203883</td>\n    </tr>\n    <tr>\n      <th>2</th>\n      <td>67.00</td>\n      <td>9</td>\n      <td>0.087379</td>\n      <td>0.291262</td>\n    </tr>\n    <tr>\n      <th>3</th>\n      <td>52.00</td>\n      <td>9</td>\n      <td>0.087379</td>\n      <td>0.378641</td>\n    </tr>\n    <tr>\n      <th>4</th>\n      <td>73.00</td>\n      <td>9</td>\n      <td>0.087379</td>\n      <td>0.466019</td>\n    </tr>\n    <tr>\n      <th>...</th>\n      <td>...</td>\n      <td>...</td>\n      <td>...</td>\n      <td>...</td>\n    </tr>\n    <tr>\n      <th>98</th>\n      <td>69.70</td>\n      <td>1</td>\n      <td>0.009709</td>\n      <td>2.048544</td>\n    </tr>\n    <tr>\n      <th>99</th>\n      <td>80.92</td>\n      <td>1</td>\n      <td>0.009709</td>\n      <td>2.058252</td>\n    </tr>\n    <tr>\n      <th>100</th>\n      <td>83.00</td>\n      <td>1</td>\n      <td>0.009709</td>\n      <td>2.067961</td>\n    </tr>\n    <tr>\n      <th>101</th>\n      <td>86.50</td>\n      <td>1</td>\n      <td>0.009709</td>\n      <td>2.077670</td>\n    </tr>\n    <tr>\n      <th>102</th>\n      <td>80.60</td>\n      <td>1</td>\n      <td>0.009709</td>\n      <td>2.087379</td>\n    </tr>\n  </tbody>\n</table>\n<p>103 rows × 4 columns</p>\n</div>"
          },
          "metadata": {}
        }
      ],
      "execution_count": 16
    },
    {
      "cell_type": "code",
      "source": "#Central tendency and IQR\nUnivariate.univariate(dataset,quan)",
      "metadata": {
        "trusted": true
      },
      "outputs": [
        {
          "execution_count": 26,
          "output_type": "execute_result",
          "data": {
            "text/plain": "           sl_no       ssc_p       hsc_p   degree_p     etest_p      mba_p  \\\nMean       108.0   67.303395   66.334744  66.358558   72.100558  62.278186   \nMedian     108.0        67.0        65.0       66.0        71.0       62.0   \nMode           1        62.0        63.0       65.0        60.0       56.7   \nQ1:25%      54.5        60.6        60.9       61.0        60.0     57.945   \nQ2:50%     108.0        67.0        65.0       66.0        71.0       62.0   \nQ3:75%     161.5        75.7        73.0       72.0        83.5     66.255   \n99%       212.86        87.0      91.129      83.86        97.0    76.1142   \nQ4:100%    215.0        89.4       91.15       88.5        98.0      77.89   \nIQR        107.0        15.1        12.1       11.0        23.5       8.31   \n1.5rule    160.5       22.65       18.15       16.5       35.25     12.465   \nLesser    -106.0       37.95       42.75       44.5       24.75      45.48   \nGreater    322.0       98.35       91.15       88.5      118.75      78.72   \nMin            1       40.89       42.75       50.0        50.0      51.21   \nMax          215        89.4       91.15       88.5        98.0      77.89   \nSkew         0.0   -0.132649    0.162611   0.204164    0.282308   0.313576   \nKurtosis    -1.2    -0.60751    0.086901   -0.09749    -1.08858  -0.470723   \nVariance  3870.0  117.228377  112.063731   53.60471  176.251018  34.028376   \n\n                     salary  \nMean          277648.648649  \nMedian             265000.0  \nMode               300000.0  \nQ1:25%             240000.0  \nQ2:50%             265000.0  \nQ3:75%             300000.0  \n99%                     NaN  \nQ4:100%            390000.0  \nIQR                 60000.0  \n1.5rule             90000.0  \nLesser             150000.0  \nGreater            390000.0  \nMin                200000.0  \nMax                390000.0  \nSkew                 0.8067  \nKurtosis          -0.239837  \nVariance  2944596800.882515  ",
            "text/html": "<div>\n<style scoped>\n    .dataframe tbody tr th:only-of-type {\n        vertical-align: middle;\n    }\n\n    .dataframe tbody tr th {\n        vertical-align: top;\n    }\n\n    .dataframe thead th {\n        text-align: right;\n    }\n</style>\n<table border=\"1\" class=\"dataframe\">\n  <thead>\n    <tr style=\"text-align: right;\">\n      <th></th>\n      <th>sl_no</th>\n      <th>ssc_p</th>\n      <th>hsc_p</th>\n      <th>degree_p</th>\n      <th>etest_p</th>\n      <th>mba_p</th>\n      <th>salary</th>\n    </tr>\n  </thead>\n  <tbody>\n    <tr>\n      <th>Mean</th>\n      <td>108.0</td>\n      <td>67.303395</td>\n      <td>66.334744</td>\n      <td>66.358558</td>\n      <td>72.100558</td>\n      <td>62.278186</td>\n      <td>277648.648649</td>\n    </tr>\n    <tr>\n      <th>Median</th>\n      <td>108.0</td>\n      <td>67.0</td>\n      <td>65.0</td>\n      <td>66.0</td>\n      <td>71.0</td>\n      <td>62.0</td>\n      <td>265000.0</td>\n    </tr>\n    <tr>\n      <th>Mode</th>\n      <td>1</td>\n      <td>62.0</td>\n      <td>63.0</td>\n      <td>65.0</td>\n      <td>60.0</td>\n      <td>56.7</td>\n      <td>300000.0</td>\n    </tr>\n    <tr>\n      <th>Q1:25%</th>\n      <td>54.5</td>\n      <td>60.6</td>\n      <td>60.9</td>\n      <td>61.0</td>\n      <td>60.0</td>\n      <td>57.945</td>\n      <td>240000.0</td>\n    </tr>\n    <tr>\n      <th>Q2:50%</th>\n      <td>108.0</td>\n      <td>67.0</td>\n      <td>65.0</td>\n      <td>66.0</td>\n      <td>71.0</td>\n      <td>62.0</td>\n      <td>265000.0</td>\n    </tr>\n    <tr>\n      <th>Q3:75%</th>\n      <td>161.5</td>\n      <td>75.7</td>\n      <td>73.0</td>\n      <td>72.0</td>\n      <td>83.5</td>\n      <td>66.255</td>\n      <td>300000.0</td>\n    </tr>\n    <tr>\n      <th>99%</th>\n      <td>212.86</td>\n      <td>87.0</td>\n      <td>91.129</td>\n      <td>83.86</td>\n      <td>97.0</td>\n      <td>76.1142</td>\n      <td>NaN</td>\n    </tr>\n    <tr>\n      <th>Q4:100%</th>\n      <td>215.0</td>\n      <td>89.4</td>\n      <td>91.15</td>\n      <td>88.5</td>\n      <td>98.0</td>\n      <td>77.89</td>\n      <td>390000.0</td>\n    </tr>\n    <tr>\n      <th>IQR</th>\n      <td>107.0</td>\n      <td>15.1</td>\n      <td>12.1</td>\n      <td>11.0</td>\n      <td>23.5</td>\n      <td>8.31</td>\n      <td>60000.0</td>\n    </tr>\n    <tr>\n      <th>1.5rule</th>\n      <td>160.5</td>\n      <td>22.65</td>\n      <td>18.15</td>\n      <td>16.5</td>\n      <td>35.25</td>\n      <td>12.465</td>\n      <td>90000.0</td>\n    </tr>\n    <tr>\n      <th>Lesser</th>\n      <td>-106.0</td>\n      <td>37.95</td>\n      <td>42.75</td>\n      <td>44.5</td>\n      <td>24.75</td>\n      <td>45.48</td>\n      <td>150000.0</td>\n    </tr>\n    <tr>\n      <th>Greater</th>\n      <td>322.0</td>\n      <td>98.35</td>\n      <td>91.15</td>\n      <td>88.5</td>\n      <td>118.75</td>\n      <td>78.72</td>\n      <td>390000.0</td>\n    </tr>\n    <tr>\n      <th>Min</th>\n      <td>1</td>\n      <td>40.89</td>\n      <td>42.75</td>\n      <td>50.0</td>\n      <td>50.0</td>\n      <td>51.21</td>\n      <td>200000.0</td>\n    </tr>\n    <tr>\n      <th>Max</th>\n      <td>215</td>\n      <td>89.4</td>\n      <td>91.15</td>\n      <td>88.5</td>\n      <td>98.0</td>\n      <td>77.89</td>\n      <td>390000.0</td>\n    </tr>\n    <tr>\n      <th>Skew</th>\n      <td>0.0</td>\n      <td>-0.132649</td>\n      <td>0.162611</td>\n      <td>0.204164</td>\n      <td>0.282308</td>\n      <td>0.313576</td>\n      <td>0.8067</td>\n    </tr>\n    <tr>\n      <th>Kurtosis</th>\n      <td>-1.2</td>\n      <td>-0.60751</td>\n      <td>0.086901</td>\n      <td>-0.09749</td>\n      <td>-1.08858</td>\n      <td>-0.470723</td>\n      <td>-0.239837</td>\n    </tr>\n    <tr>\n      <th>Variance</th>\n      <td>3870.0</td>\n      <td>117.228377</td>\n      <td>112.063731</td>\n      <td>53.60471</td>\n      <td>176.251018</td>\n      <td>34.028376</td>\n      <td>2944596800.882515</td>\n    </tr>\n  </tbody>\n</table>\n</div>"
          },
          "metadata": {}
        }
      ],
      "execution_count": 26
    },
    {
      "cell_type": "code",
      "source": "#finding outlier\ndescriptive = Univariate.univariate(dataset,quan)",
      "metadata": {
        "trusted": true
      },
      "outputs": [],
      "execution_count": 27
    },
    {
      "cell_type": "code",
      "source": "lesser = []\ngreater = []\nfor columnname in quan:\n    if (descriptive[columnname]['Min'] < descriptive[columnname]['Lesser']):\n        lesser.append(columnname)\n    if (descriptive[columnname]['Max'] > descriptive[columnname]['Greater']):\n        greater.append(columnname)",
      "metadata": {
        "trusted": true
      },
      "outputs": [],
      "execution_count": 28
    },
    {
      "cell_type": "code",
      "source": "print(lesser)",
      "metadata": {
        "trusted": true
      },
      "outputs": [
        {
          "name": "stdout",
          "text": "[]\n",
          "output_type": "stream"
        }
      ],
      "execution_count": 29
    },
    {
      "cell_type": "code",
      "source": "print(greater)",
      "metadata": {
        "trusted": true
      },
      "outputs": [
        {
          "name": "stdout",
          "text": "[]\n",
          "output_type": "stream"
        }
      ],
      "execution_count": 30
    },
    {
      "cell_type": "code",
      "source": "#replace outlier\nfor columnname in lesser:\n    dataset[columnname][dataset[columnname] < descriptive[columnname]['Lesser']] = descriptive[columnname]['Lesser']\nfor columnname in greater:\n    dataset[columnname][dataset[columnname] > descriptive[columnname]['Greater']] = descriptive[columnname]['Greater']",
      "metadata": {
        "trusted": true
      },
      "outputs": [
        {
          "name": "stderr",
          "text": "<ipython-input-22-d04816870901>:3: SettingWithCopyWarning: \nA value is trying to be set on a copy of a slice from a DataFrame\n\nSee the caveats in the documentation: https://pandas.pydata.org/pandas-docs/stable/user_guide/indexing.html#returning-a-view-versus-a-copy\n  dataset[columnname][dataset[columnname] < descriptive[columnname]['Lesser']] = descriptive[columnname]['Lesser']\n<ipython-input-22-d04816870901>:5: SettingWithCopyWarning: \nA value is trying to be set on a copy of a slice from a DataFrame\n\nSee the caveats in the documentation: https://pandas.pydata.org/pandas-docs/stable/user_guide/indexing.html#returning-a-view-versus-a-copy\n  dataset[columnname][dataset[columnname] > descriptive[columnname]['Greater']] = descriptive[columnname]['Greater']\n",
          "output_type": "stream"
        }
      ],
      "execution_count": 22
    },
    {
      "cell_type": "code",
      "source": "",
      "metadata": {
        "trusted": true
      },
      "outputs": [],
      "execution_count": null
    },
    {
      "cell_type": "code",
      "source": "univariate(dataset,quan)",
      "metadata": {
        "trusted": true
      },
      "outputs": [],
      "execution_count": null
    },
    {
      "cell_type": "code",
      "source": "",
      "metadata": {
        "trusted": true
      },
      "outputs": [],
      "execution_count": null
    },
    {
      "cell_type": "code",
      "source": "",
      "metadata": {
        "trusted": true
      },
      "outputs": [],
      "execution_count": null
    }
  ]
}